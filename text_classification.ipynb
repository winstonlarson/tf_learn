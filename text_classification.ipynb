{
 "cells": [
  {
   "cell_type": "code",
   "execution_count": 1,
   "metadata": {},
   "outputs": [
    {
     "name": "stderr",
     "output_type": "stream",
     "text": [
      "/Users/RWL11/anaconda3/lib/python3.6/importlib/_bootstrap.py:219: RuntimeWarning: compiletime version 3.5 of module 'tensorflow.python.framework.fast_tensor_util' does not match runtime version 3.6\n",
      "  return f(*args, **kwds)\n"
     ]
    },
    {
     "name": "stdout",
     "output_type": "stream",
     "text": [
      "1.10.1\n"
     ]
    }
   ],
   "source": [
    "import tensorflow as tf\n",
    "from tensorflow import keras\n",
    "\n",
    "import numpy as np\n",
    "\n",
    "print(tf.__version__)"
   ]
  },
  {
   "cell_type": "code",
   "execution_count": 2,
   "metadata": {},
   "outputs": [
    {
     "name": "stdout",
     "output_type": "stream",
     "text": [
      "Downloading data from https://storage.googleapis.com/tensorflow/tf-keras-datasets/imdb.npz\n",
      "17465344/17464789 [==============================] - 2s 0us/step\n"
     ]
    }
   ],
   "source": [
    "imdb = keras.datasets.imdb\n",
    "\n",
    "(train_data, train_labels), (test_data, test_labels) = imdb.load_data(num_words=10000)"
   ]
  },
  {
   "cell_type": "code",
   "execution_count": 4,
   "metadata": {},
   "outputs": [
    {
     "name": "stdout",
     "output_type": "stream",
     "text": [
      "Training entries: 25000, labels: 25000\n"
     ]
    }
   ],
   "source": [
    "print(\"Training entries: {}, labels: {}\".format(len(train_data), len(train_labels)))"
   ]
  },
  {
   "cell_type": "code",
   "execution_count": 5,
   "metadata": {},
   "outputs": [
    {
     "name": "stdout",
     "output_type": "stream",
     "text": [
      "[1, 14, 22, 16, 43, 530, 973, 1622, 1385, 65, 458, 4468, 66, 3941, 4, 173, 36, 256, 5, 25, 100, 43, 838, 112, 50, 670, 2, 9, 35, 480, 284, 5, 150, 4, 172, 112, 167, 2, 336, 385, 39, 4, 172, 4536, 1111, 17, 546, 38, 13, 447, 4, 192, 50, 16, 6, 147, 2025, 19, 14, 22, 4, 1920, 4613, 469, 4, 22, 71, 87, 12, 16, 43, 530, 38, 76, 15, 13, 1247, 4, 22, 17, 515, 17, 12, 16, 626, 18, 2, 5, 62, 386, 12, 8, 316, 8, 106, 5, 4, 2223, 5244, 16, 480, 66, 3785, 33, 4, 130, 12, 16, 38, 619, 5, 25, 124, 51, 36, 135, 48, 25, 1415, 33, 6, 22, 12, 215, 28, 77, 52, 5, 14, 407, 16, 82, 2, 8, 4, 107, 117, 5952, 15, 256, 4, 2, 7, 3766, 5, 723, 36, 71, 43, 530, 476, 26, 400, 317, 46, 7, 4, 2, 1029, 13, 104, 88, 4, 381, 15, 297, 98, 32, 2071, 56, 26, 141, 6, 194, 7486, 18, 4, 226, 22, 21, 134, 476, 26, 480, 5, 144, 30, 5535, 18, 51, 36, 28, 224, 92, 25, 104, 4, 226, 65, 16, 38, 1334, 88, 12, 16, 283, 5, 16, 4472, 113, 103, 32, 15, 16, 5345, 19, 178, 32]\n"
     ]
    }
   ],
   "source": [
    "print(train_data[0])"
   ]
  },
  {
   "cell_type": "code",
   "execution_count": 7,
   "metadata": {},
   "outputs": [
    {
     "data": {
      "text/plain": [
       "(218, 189)"
      ]
     },
     "execution_count": 7,
     "metadata": {},
     "output_type": "execute_result"
    }
   ],
   "source": [
    "len(train_data[0]), len(train_data[1])"
   ]
  },
  {
   "cell_type": "code",
   "execution_count": 9,
   "metadata": {},
   "outputs": [
    {
     "name": "stdout",
     "output_type": "stream",
     "text": [
      "Downloading data from https://storage.googleapis.com/tensorflow/tf-keras-datasets/imdb_word_index.json\n",
      "1646592/1641221 [==============================] - 0s 0us/step\n"
     ]
    }
   ],
   "source": [
    "# A dictionary mapping words to an integer index\n",
    "word_index = imdb.get_word_index()\n",
    "\n",
    "# The first indices are reserved\n",
    "word_index = {k:(v+3) for k,v in word_index.items()}\n",
    "word_index[\"<PAD>\"] = 0\n",
    "word_index[\"<START>\"] = 1\n",
    "word_index[\"<UNK>\"] = 2 # unknown\n",
    "word_index[\"<UNUSED>\"] = 3\n",
    "\n",
    "reverse_word_index = dict([(value, key) for (key, value) in word_index.items()])\n",
    "\n",
    "def decode_review(text):\n",
    "    return ' '.join([reverse_word_index.get(i, '?') for i in text])"
   ]
  },
  {
   "cell_type": "code",
   "execution_count": 10,
   "metadata": {},
   "outputs": [
    {
     "data": {
      "text/plain": [
       "\"<START> this film was just brilliant casting location scenery story direction everyone's really suited the part they played and you could just imagine being there robert <UNK> is an amazing actor and now the same being director <UNK> father came from the same scottish island as myself so i loved the fact there was a real connection with this film the witty remarks throughout the film were great it was just brilliant so much that i bought the film as soon as it was released for <UNK> and would recommend it to everyone to watch and the fly fishing was amazing really cried at the end it was so sad and you know what they say if you cry at a film it must have been good and this definitely was also <UNK> to the two little boy's that played the <UNK> of norman and paul they were just brilliant children are often left out of the <UNK> list i think because the stars that play them all grown up are such a big profile for the whole film but these children are amazing and should be praised for what they have done don't you think the whole story was so lovely because it was true and was someone's life after all that was shared with us all\""
      ]
     },
     "execution_count": 10,
     "metadata": {},
     "output_type": "execute_result"
    }
   ],
   "source": [
    "decode_review(train_data[0])"
   ]
  },
  {
   "cell_type": "code",
   "execution_count": 11,
   "metadata": {},
   "outputs": [],
   "source": [
    "train_data = keras.preprocessing.sequence.pad_sequences(train_data,\n",
    "                                                       value=word_index[\"<PAD>\"],\n",
    "                                                       padding='post',\n",
    "                                                       maxlen=256)\n",
    "\n",
    "test_data = keras.preprocessing.sequence.pad_sequences(test_data,\n",
    "                                                      value=word_index[\"<PAD>\"],\n",
    "                                                      padding='post',\n",
    "                                                      maxlen=256)"
   ]
  },
  {
   "cell_type": "code",
   "execution_count": 13,
   "metadata": {},
   "outputs": [
    {
     "data": {
      "text/plain": [
       "(256, 256)"
      ]
     },
     "execution_count": 13,
     "metadata": {},
     "output_type": "execute_result"
    }
   ],
   "source": [
    "len(train_data[0]), len(train_data[1])"
   ]
  },
  {
   "cell_type": "code",
   "execution_count": 14,
   "metadata": {},
   "outputs": [
    {
     "name": "stdout",
     "output_type": "stream",
     "text": [
      "[   1   14   22   16   43  530  973 1622 1385   65  458 4468   66 3941\n",
      "    4  173   36  256    5   25  100   43  838  112   50  670    2    9\n",
      "   35  480  284    5  150    4  172  112  167    2  336  385   39    4\n",
      "  172 4536 1111   17  546   38   13  447    4  192   50   16    6  147\n",
      " 2025   19   14   22    4 1920 4613  469    4   22   71   87   12   16\n",
      "   43  530   38   76   15   13 1247    4   22   17  515   17   12   16\n",
      "  626   18    2    5   62  386   12    8  316    8  106    5    4 2223\n",
      " 5244   16  480   66 3785   33    4  130   12   16   38  619    5   25\n",
      "  124   51   36  135   48   25 1415   33    6   22   12  215   28   77\n",
      "   52    5   14  407   16   82    2    8    4  107  117 5952   15  256\n",
      "    4    2    7 3766    5  723   36   71   43  530  476   26  400  317\n",
      "   46    7    4    2 1029   13  104   88    4  381   15  297   98   32\n",
      " 2071   56   26  141    6  194 7486   18    4  226   22   21  134  476\n",
      "   26  480    5  144   30 5535   18   51   36   28  224   92   25  104\n",
      "    4  226   65   16   38 1334   88   12   16  283    5   16 4472  113\n",
      "  103   32   15   16 5345   19  178   32    0    0    0    0    0    0\n",
      "    0    0    0    0    0    0    0    0    0    0    0    0    0    0\n",
      "    0    0    0    0    0    0    0    0    0    0    0    0    0    0\n",
      "    0    0    0    0]\n"
     ]
    }
   ],
   "source": [
    "print(train_data[0])"
   ]
  },
  {
   "cell_type": "code",
   "execution_count": 15,
   "metadata": {},
   "outputs": [
    {
     "name": "stdout",
     "output_type": "stream",
     "text": [
      "_________________________________________________________________\n",
      "Layer (type)                 Output Shape              Param #   \n",
      "=================================================================\n",
      "embedding (Embedding)        (None, None, 16)          160000    \n",
      "_________________________________________________________________\n",
      "global_average_pooling1d (Gl (None, 16)                0         \n",
      "_________________________________________________________________\n",
      "dense (Dense)                (None, 16)                272       \n",
      "_________________________________________________________________\n",
      "dense_1 (Dense)              (None, 1)                 17        \n",
      "=================================================================\n",
      "Total params: 160,289\n",
      "Trainable params: 160,289\n",
      "Non-trainable params: 0\n",
      "_________________________________________________________________\n"
     ]
    }
   ],
   "source": [
    "# input shape is the vocabulary count used for the movie reviews(10,000 words)\n",
    "vocab_size = 10000\n",
    "\n",
    "model = keras.Sequential()\n",
    "model.add(keras.layers.Embedding(vocab_size, 16))\n",
    "model.add(keras.layers.GlobalAveragePooling1D())\n",
    "model.add(keras.layers.Dense(16, activation=tf.nn.relu))\n",
    "model.add(keras.layers.Dense(1, activation=tf.nn.sigmoid))\n",
    "\n",
    "model.summary()"
   ]
  },
  {
   "cell_type": "code",
   "execution_count": 19,
   "metadata": {},
   "outputs": [],
   "source": [
    "model.compile(optimizer=tf.train.AdamOptimizer(),\n",
    "             loss='binary_crossentropy',\n",
    "             metrics=['accuracy'])"
   ]
  },
  {
   "cell_type": "code",
   "execution_count": 20,
   "metadata": {},
   "outputs": [],
   "source": [
    "x_val = train_data[:10000]\n",
    "partial_x_train = train_data[10000:]\n",
    "\n",
    "y_val = train_labels[:10000]\n",
    "partial_y_train = train_labels[10000:]"
   ]
  },
  {
   "cell_type": "code",
   "execution_count": 21,
   "metadata": {},
   "outputs": [
    {
     "name": "stdout",
     "output_type": "stream",
     "text": [
      "Train on 15000 samples, validate on 10000 samples\n",
      "Epoch 1/40\n",
      "15000/15000 [==============================] - 1s 40us/step - loss: 0.6988 - acc: 0.5015 - val_loss: 0.6941 - val_acc: 0.4996\n",
      "Epoch 2/40\n",
      "15000/15000 [==============================] - 0s 18us/step - loss: 0.6912 - acc: 0.5382 - val_loss: 0.6900 - val_acc: 0.5505\n",
      "Epoch 3/40\n",
      "15000/15000 [==============================] - 0s 18us/step - loss: 0.6885 - acc: 0.5855 - val_loss: 0.6879 - val_acc: 0.5961\n",
      "Epoch 4/40\n",
      "15000/15000 [==============================] - 0s 18us/step - loss: 0.6857 - acc: 0.6384 - val_loss: 0.6855 - val_acc: 0.5444\n",
      "Epoch 5/40\n",
      "15000/15000 [==============================] - 0s 18us/step - loss: 0.6821 - acc: 0.6659 - val_loss: 0.6810 - val_acc: 0.7581\n",
      "Epoch 6/40\n",
      "15000/15000 [==============================] - 0s 18us/step - loss: 0.6774 - acc: 0.7542 - val_loss: 0.6761 - val_acc: 0.7576\n",
      "Epoch 7/40\n",
      "15000/15000 [==============================] - 0s 18us/step - loss: 0.6711 - acc: 0.7547 - val_loss: 0.6700 - val_acc: 0.7270\n",
      "Epoch 8/40\n",
      "15000/15000 [==============================] - 0s 18us/step - loss: 0.6627 - acc: 0.7610 - val_loss: 0.6613 - val_acc: 0.7437\n",
      "Epoch 9/40\n",
      "15000/15000 [==============================] - 0s 18us/step - loss: 0.6519 - acc: 0.7707 - val_loss: 0.6497 - val_acc: 0.7614\n",
      "Epoch 10/40\n",
      "15000/15000 [==============================] - 0s 18us/step - loss: 0.6370 - acc: 0.7849 - val_loss: 0.6324 - val_acc: 0.7713\n",
      "Epoch 11/40\n",
      "15000/15000 [==============================] - 0s 19us/step - loss: 0.6167 - acc: 0.7702 - val_loss: 0.6135 - val_acc: 0.7715\n",
      "Epoch 12/40\n",
      "15000/15000 [==============================] - 0s 19us/step - loss: 0.5927 - acc: 0.7934 - val_loss: 0.5898 - val_acc: 0.7842\n",
      "Epoch 13/40\n",
      "15000/15000 [==============================] - 0s 19us/step - loss: 0.5659 - acc: 0.8057 - val_loss: 0.5661 - val_acc: 0.7903\n",
      "Epoch 14/40\n",
      "15000/15000 [==============================] - 0s 18us/step - loss: 0.5383 - acc: 0.8131 - val_loss: 0.5403 - val_acc: 0.7986\n",
      "Epoch 15/40\n",
      "15000/15000 [==============================] - 0s 17us/step - loss: 0.5098 - acc: 0.8223 - val_loss: 0.5145 - val_acc: 0.8066\n",
      "Epoch 16/40\n",
      "15000/15000 [==============================] - 0s 18us/step - loss: 0.4825 - acc: 0.8291 - val_loss: 0.4906 - val_acc: 0.8117\n",
      "Epoch 17/40\n",
      "15000/15000 [==============================] - 0s 18us/step - loss: 0.4551 - acc: 0.8432 - val_loss: 0.4679 - val_acc: 0.8247\n",
      "Epoch 18/40\n",
      "15000/15000 [==============================] - 0s 18us/step - loss: 0.4301 - acc: 0.8519 - val_loss: 0.4462 - val_acc: 0.8332\n",
      "Epoch 19/40\n",
      "15000/15000 [==============================] - 0s 19us/step - loss: 0.4069 - acc: 0.8605 - val_loss: 0.4267 - val_acc: 0.8396\n",
      "Epoch 20/40\n",
      "15000/15000 [==============================] - 0s 19us/step - loss: 0.3858 - acc: 0.8687 - val_loss: 0.4096 - val_acc: 0.8447\n",
      "Epoch 21/40\n",
      "15000/15000 [==============================] - 0s 18us/step - loss: 0.3664 - acc: 0.8757 - val_loss: 0.3941 - val_acc: 0.8505\n",
      "Epoch 22/40\n",
      "15000/15000 [==============================] - 0s 18us/step - loss: 0.3491 - acc: 0.8805 - val_loss: 0.3807 - val_acc: 0.8544\n",
      "Epoch 23/40\n",
      "15000/15000 [==============================] - 0s 18us/step - loss: 0.3339 - acc: 0.8850 - val_loss: 0.3693 - val_acc: 0.8567\n",
      "Epoch 24/40\n",
      "15000/15000 [==============================] - 0s 17us/step - loss: 0.3197 - acc: 0.8885 - val_loss: 0.3589 - val_acc: 0.8609\n",
      "Epoch 25/40\n",
      "15000/15000 [==============================] - 0s 18us/step - loss: 0.3072 - acc: 0.8933 - val_loss: 0.3500 - val_acc: 0.8633\n",
      "Epoch 26/40\n",
      "15000/15000 [==============================] - 0s 19us/step - loss: 0.2958 - acc: 0.8959 - val_loss: 0.3423 - val_acc: 0.8659\n",
      "Epoch 27/40\n",
      "15000/15000 [==============================] - 0s 18us/step - loss: 0.2857 - acc: 0.8985 - val_loss: 0.3355 - val_acc: 0.8694\n",
      "Epoch 28/40\n",
      "15000/15000 [==============================] - 0s 18us/step - loss: 0.2760 - acc: 0.9021 - val_loss: 0.3293 - val_acc: 0.8717\n",
      "Epoch 29/40\n",
      "15000/15000 [==============================] - 0s 18us/step - loss: 0.2672 - acc: 0.9048 - val_loss: 0.3243 - val_acc: 0.8730\n",
      "Epoch 30/40\n",
      "15000/15000 [==============================] - 0s 18us/step - loss: 0.2597 - acc: 0.9069 - val_loss: 0.3195 - val_acc: 0.8745\n",
      "Epoch 31/40\n",
      "15000/15000 [==============================] - 0s 19us/step - loss: 0.2514 - acc: 0.9109 - val_loss: 0.3155 - val_acc: 0.8752\n",
      "Epoch 32/40\n",
      "15000/15000 [==============================] - 0s 19us/step - loss: 0.2449 - acc: 0.9120 - val_loss: 0.3119 - val_acc: 0.8770\n",
      "Epoch 33/40\n",
      "15000/15000 [==============================] - 0s 18us/step - loss: 0.2375 - acc: 0.9148 - val_loss: 0.3088 - val_acc: 0.8772\n",
      "Epoch 34/40\n",
      "15000/15000 [==============================] - 0s 17us/step - loss: 0.2312 - acc: 0.9171 - val_loss: 0.3058 - val_acc: 0.8789\n",
      "Epoch 35/40\n",
      "15000/15000 [==============================] - 0s 18us/step - loss: 0.2256 - acc: 0.9191 - val_loss: 0.3031 - val_acc: 0.8777\n",
      "Epoch 36/40\n",
      "15000/15000 [==============================] - 0s 18us/step - loss: 0.2193 - acc: 0.9215 - val_loss: 0.3011 - val_acc: 0.8800\n",
      "Epoch 37/40\n",
      "15000/15000 [==============================] - 0s 19us/step - loss: 0.2139 - acc: 0.9238 - val_loss: 0.2992 - val_acc: 0.8802\n",
      "Epoch 38/40\n",
      "15000/15000 [==============================] - 0s 19us/step - loss: 0.2088 - acc: 0.9255 - val_loss: 0.2969 - val_acc: 0.8800\n",
      "Epoch 39/40\n",
      "15000/15000 [==============================] - 0s 19us/step - loss: 0.2034 - acc: 0.9289 - val_loss: 0.2954 - val_acc: 0.8806\n",
      "Epoch 40/40\n",
      "15000/15000 [==============================] - 0s 19us/step - loss: 0.1985 - acc: 0.9296 - val_loss: 0.2939 - val_acc: 0.8818\n"
     ]
    }
   ],
   "source": [
    "history = model.fit(partial_x_train,\n",
    "                   partial_y_train,\n",
    "                   epochs=40,\n",
    "                   batch_size=512,\n",
    "                   validation_data=(x_val, y_val),\n",
    "                   verbose=1)"
   ]
  },
  {
   "cell_type": "code",
   "execution_count": 22,
   "metadata": {},
   "outputs": [
    {
     "name": "stdout",
     "output_type": "stream",
     "text": [
      "25000/25000 [==============================] - 0s 10us/step\n",
      "[0.30838922014236453, 0.87272]\n"
     ]
    }
   ],
   "source": [
    "results = model.evaluate(test_data, test_labels)\n",
    "print(results)"
   ]
  },
  {
   "cell_type": "code",
   "execution_count": 24,
   "metadata": {},
   "outputs": [
    {
     "data": {
      "text/plain": [
       "dict_keys(['val_loss', 'val_acc', 'loss', 'acc'])"
      ]
     },
     "execution_count": 24,
     "metadata": {},
     "output_type": "execute_result"
    }
   ],
   "source": [
    "history_dict = history.history\n",
    "history_dict.keys()"
   ]
  },
  {
   "cell_type": "code",
   "execution_count": 28,
   "metadata": {},
   "outputs": [
    {
     "data": {
      "image/png": "[encoded data removed]",
      "text/plain": [
       "<Figure size 432x288 with 1 Axes>"
      ]
     },
     "metadata": {},
     "output_type": "display_data"
    }
   ],
   "source": [
    "import matplotlib.pyplot as plt\n",
    "\n",
    "acc = history.history['acc']\n",
    "val_acc = history.history['val_acc']\n",
    "loss = history.history['loss']\n",
    "val_loss = history.history['val_loss']\n",
    "\n",
    "epochs = range(1, len(acc) + 1)\n",
    "\n",
    "plt.plot(epochs, loss, 'bo', label='Training loss')\n",
    "plt.plot(epochs, val_loss, 'b', label='Validation loss')\n",
    "plt.title('Training and validation loss')\n",
    "plt.xlabel('Epochs')\n",
    "plt.ylabel('Loss')\n",
    "plt.legend()\n",
    "\n",
    "plt.show()"
   ]
  },
  {
   "cell_type": "code",
   "execution_count": 30,
   "metadata": {},
   "outputs": [
    {
     "data": {
      "image/png": "[encoded data removed]",
      "text/plain": [
       "<Figure size 432x288 with 1 Axes>"
      ]
     },
     "metadata": {},
     "output_type": "display_data"
    }
   ],
   "source": [
    "acc_values = history_dict['acc']\n",
    "val_acc_values = history_dict['val_acc']\n",
    "\n",
    "plt.plot(epochs, acc, 'bo', label='Training acc')\n",
    "plt.plot(epochs, val_acc, 'b', label='Validation acc')\n",
    "plt.title('Training and validation accuracy')\n",
    "plt.xlabel('Epochs')\n",
    "plt.ylabel('Epochs')\n",
    "plt.legend()\n",
    "\n",
    "plt.show()"
   ]
  },
  {
   "cell_type": "code",
   "execution_count": null,
   "metadata": {},
   "outputs": [],
   "source": []
  }
 ],
 "metadata": {
  "kernelspec": {
   "display_name": "Python 3",
   "language": "python",
   "name": "python3"
  },
  "language_info": {
   "codemirror_mode": {
    "name": "ipython",
    "version": 3
   },
   "file_extension": ".py",
   "mimetype": "text/x-python",
   "name": "python",
   "nbconvert_exporter": "python",
   "pygments_lexer": "ipython3",
   "version": "3.6.6"
  }
 },
 "nbformat": 4,
 "nbformat_minor": 2
}

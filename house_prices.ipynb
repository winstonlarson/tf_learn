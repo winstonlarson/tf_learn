{
 "cells": [
  {
   "cell_type": "code",
   "execution_count": 2,
   "metadata": {},
   "outputs": [
    {
     "name": "stderr",
     "output_type": "stream",
     "text": [
      "/Users/RWL11/anaconda3/lib/python3.6/importlib/_bootstrap.py:219: RuntimeWarning: compiletime version 3.5 of module 'tensorflow.python.framework.fast_tensor_util' does not match runtime version 3.6\n",
      "  return f(*args, **kwds)\n"
     ]
    },
    {
     "name": "stdout",
     "output_type": "stream",
     "text": [
      "1.10.1\n"
     ]
    }
   ],
   "source": [
    "from __future__ import absolute_import, division, print_function\n",
    "\n",
    "import tensorflow as tf\n",
    "from tensorflow import keras\n",
    "\n",
    "import numpy as np\n",
    "\n",
    "print(tf.__version__)"
   ]
  },
  {
   "cell_type": "code",
   "execution_count": 3,
   "metadata": {},
   "outputs": [],
   "source": [
    "boston_housing = keras.datasets.boston_housing\n",
    "\n",
    "(train_data, train_labels), (test_data, test_labels) = boston_housing.load_data()\n",
    "\n",
    "# Shuffle the training set\n",
    "order = np.argsort(np.random.random(train_labels.shape))\n",
    "train_data = train_data[order]\n",
    "train_labels = train_labels[order]"
   ]
  },
  {
   "cell_type": "code",
   "execution_count": 4,
   "metadata": {},
   "outputs": [
    {
     "name": "stdout",
     "output_type": "stream",
     "text": [
      "Training set: (404, 13)\n",
      "Testing set: (102, 13)\n"
     ]
    }
   ],
   "source": [
    "print(\"Training set: {}\".format(train_data.shape))\n",
    "print(\"Testing set: {}\".format(test_data.shape))"
   ]
  },
  {
   "cell_type": "code",
   "execution_count": 5,
   "metadata": {},
   "outputs": [
    {
     "name": "stdout",
     "output_type": "stream",
     "text": [
      "[7.8750e-02 4.5000e+01 3.4400e+00 0.0000e+00 4.3700e-01 6.7820e+00\n",
      " 4.1100e+01 3.7886e+00 5.0000e+00 3.9800e+02 1.5200e+01 3.9387e+02\n",
      " 6.6800e+00]\n"
     ]
    }
   ],
   "source": [
    "print(train_data[0])"
   ]
  },
  {
   "cell_type": "code",
   "execution_count": 6,
   "metadata": {},
   "outputs": [
    {
     "data": {
      "text/plain": [
       "<bound method NDFrame.head of          CRIM     ZN  INDUS  CHAS    NOX     RM    AGE     DIS   RAD    TAX  \\\n",
       "0     0.07875   45.0   3.44   0.0  0.437  6.782   41.1  3.7886   5.0  398.0   \n",
       "1     4.55587    0.0  18.10   0.0  0.718  3.561   87.9  1.6132  24.0  666.0   \n",
       "2     0.09604   40.0   6.41   0.0  0.447  6.854   42.8  4.2673   4.0  254.0   \n",
       "3     0.01870   85.0   4.15   0.0  0.429  6.516   27.7  8.5353   4.0  351.0   \n",
       "4     0.52693    0.0   6.20   0.0  0.504  8.725   83.0  2.8944   8.0  307.0   \n",
       "5     2.37857    0.0  18.10   0.0  0.583  5.871   41.9  3.7240  24.0  666.0   \n",
       "6     0.13642    0.0  10.59   0.0  0.489  5.891   22.3  3.9454   4.0  277.0   \n",
       "7     0.06888    0.0   2.46   0.0  0.488  6.144   62.2  2.5979   3.0  193.0   \n",
       "8     0.17331    0.0   9.69   0.0  0.585  5.707   54.0  2.3817   6.0  391.0   \n",
       "9     0.13262    0.0   8.56   0.0  0.520  5.851   96.7  2.1069   5.0  384.0   \n",
       "10   19.60910    0.0  18.10   0.0  0.671  7.313   97.9  1.3163  24.0  666.0   \n",
       "11    0.75026    0.0   8.14   0.0  0.538  5.924   94.1  4.3996   4.0  307.0   \n",
       "12    0.01381   80.0   0.46   0.0  0.422  7.875   32.0  5.6484   4.0  255.0   \n",
       "13    0.65665   20.0   3.97   0.0  0.647  6.842  100.0  2.0107   5.0  264.0   \n",
       "14    5.87205    0.0  18.10   0.0  0.693  6.405   96.0  1.6768  24.0  666.0   \n",
       "15    0.24103    0.0   7.38   0.0  0.493  6.083   43.7  5.4159   5.0  287.0   \n",
       "16    0.11432    0.0   8.56   0.0  0.520  6.781   71.3  2.8561   5.0  384.0   \n",
       "17    4.89822    0.0  18.10   0.0  0.631  4.970  100.0  1.3325  24.0  666.0   \n",
       "18   15.86030    0.0  18.10   0.0  0.679  5.896   95.4  1.9096  24.0  666.0   \n",
       "19    0.21124   12.5   7.87   0.0  0.524  5.631  100.0  6.0821   5.0  311.0   \n",
       "20    0.31827    0.0   9.90   0.0  0.544  5.914   83.2  3.9986   4.0  304.0   \n",
       "21    0.38735    0.0  25.65   0.0  0.581  5.613   95.6  1.7572   2.0  188.0   \n",
       "22    0.14476    0.0  10.01   0.0  0.547  5.731   65.2  2.7592   6.0  432.0   \n",
       "23    0.02899   40.0   1.25   0.0  0.429  6.939   34.5  8.7921   1.0  335.0   \n",
       "24    0.05561   70.0   2.24   0.0  0.400  7.041   10.0  7.8278   5.0  358.0   \n",
       "25    4.09740    0.0  19.58   0.0  0.871  5.468  100.0  1.4118   5.0  403.0   \n",
       "26    0.14932   25.0   5.13   0.0  0.453  5.741   66.2  7.2254   8.0  284.0   \n",
       "27    0.03445   82.5   2.03   0.0  0.415  6.162   38.4  6.2700   2.0  348.0   \n",
       "28    9.82349    0.0  18.10   0.0  0.671  6.794   98.8  1.3580  24.0  666.0   \n",
       "29    7.67202    0.0  18.10   0.0  0.693  5.747   98.9  1.6334  24.0  666.0   \n",
       "..        ...    ...    ...   ...    ...    ...    ...     ...   ...    ...   \n",
       "374   0.03932    0.0   3.41   0.0  0.489  6.405   73.9  3.0921   2.0  270.0   \n",
       "375   2.30040    0.0  19.58   0.0  0.605  6.319   96.1  2.1000   5.0  403.0   \n",
       "376  11.08740    0.0  18.10   0.0  0.718  6.411  100.0  1.8589  24.0  666.0   \n",
       "377   0.34940    0.0   9.90   0.0  0.544  5.972   76.7  3.1025   4.0  304.0   \n",
       "378   0.14231    0.0  10.01   0.0  0.547  6.254   84.2  2.2565   6.0  432.0   \n",
       "379   1.38799    0.0   8.14   0.0  0.538  5.950   82.0  3.9900   4.0  307.0   \n",
       "380   9.23230    0.0  18.10   0.0  0.631  6.216  100.0  1.1691  24.0  666.0   \n",
       "381   0.08664   45.0   3.44   0.0  0.437  7.178   26.3  6.4798   5.0  398.0   \n",
       "382   0.67191    0.0   8.14   0.0  0.538  5.813   90.3  4.6820   4.0  307.0   \n",
       "383   0.10793    0.0   8.56   0.0  0.520  6.195   54.4  2.7778   5.0  384.0   \n",
       "384   0.78420    0.0   8.14   0.0  0.538  5.990   81.7  4.2579   4.0  307.0   \n",
       "385   0.03150   95.0   1.47   0.0  0.403  6.975   15.3  7.6534   3.0  402.0   \n",
       "386   0.09164    0.0  10.81   0.0  0.413  6.065    7.8  5.2873   4.0  305.0   \n",
       "387   0.05372    0.0  13.92   0.0  0.437  6.549   51.0  5.9604   4.0  289.0   \n",
       "388   2.44953    0.0  19.58   0.0  0.605  6.402   95.2  2.2625   5.0  403.0   \n",
       "389   3.69311    0.0  18.10   0.0  0.713  6.376   88.4  2.5671  24.0  666.0   \n",
       "390   3.16360    0.0  18.10   0.0  0.655  5.759   48.2  3.0665  24.0  666.0   \n",
       "391   0.09065   20.0   6.96   1.0  0.464  5.920   61.5  3.9175   3.0  223.0   \n",
       "392  12.80230    0.0  18.10   0.0  0.740  5.854   96.6  1.8956  24.0  666.0   \n",
       "393   0.43571    0.0  10.59   1.0  0.489  5.344  100.0  3.8750   4.0  277.0   \n",
       "394   0.14866    0.0   8.56   0.0  0.520  6.727   79.9  2.7778   5.0  384.0   \n",
       "395   2.81838    0.0  18.10   0.0  0.532  5.762   40.3  4.0983  24.0  666.0   \n",
       "396   0.01432  100.0   1.32   0.0  0.411  6.816   40.5  8.3248   5.0  256.0   \n",
       "397   6.80117    0.0  18.10   0.0  0.713  6.081   84.4  2.7175  24.0  666.0   \n",
       "398   0.25387    0.0   6.91   0.0  0.448  5.399   95.3  5.8700   3.0  233.0   \n",
       "399   6.96215    0.0  18.10   0.0  0.700  5.713   97.0  1.9265  24.0  666.0   \n",
       "400   3.77498    0.0  18.10   0.0  0.655  5.952   84.7  2.8715  24.0  666.0   \n",
       "401   0.40771    0.0   6.20   1.0  0.507  6.164   91.3  3.0480   8.0  307.0   \n",
       "402   0.06664    0.0   4.05   0.0  0.510  6.546   33.1  3.1323   5.0  296.0   \n",
       "403   7.02259    0.0  18.10   0.0  0.718  6.006   95.3  1.8746  24.0  666.0   \n",
       "\n",
       "     PTRATIO       B  LSTAT  \n",
       "0       15.2  393.87   6.68  \n",
       "1       20.2  354.70   7.12  \n",
       "2       17.6  396.90   2.98  \n",
       "3       17.9  392.43   6.36  \n",
       "4       17.4  382.00   4.63  \n",
       "5       20.2  370.73  13.34  \n",
       "6       18.6  396.90  10.87  \n",
       "7       17.8  396.90   9.45  \n",
       "8       19.2  396.90  12.01  \n",
       "9       20.9  394.05  16.47  \n",
       "10      20.2  396.90  13.44  \n",
       "11      21.0  394.33  16.30  \n",
       "12      14.4  394.23   2.97  \n",
       "13      13.0  391.93   6.90  \n",
       "14      20.2  396.90  19.37  \n",
       "15      19.6  396.90  12.79  \n",
       "16      20.9  395.58   7.67  \n",
       "17      20.2  375.52   3.26  \n",
       "18      20.2    7.68  24.39  \n",
       "19      15.2  386.63  29.93  \n",
       "20      18.4  390.70  18.33  \n",
       "21      19.1  359.29  27.26  \n",
       "22      17.8  391.50  13.61  \n",
       "23      19.7  389.85   5.89  \n",
       "24      14.8  371.58   4.74  \n",
       "25      14.7  396.90  26.42  \n",
       "26      19.7  395.11  13.15  \n",
       "27      14.7  393.77   7.43  \n",
       "28      20.2  396.90  21.24  \n",
       "29      20.2  393.10  19.92  \n",
       "..       ...     ...    ...  \n",
       "374     17.8  393.55   8.20  \n",
       "375     14.7  297.09  11.10  \n",
       "376     20.2  318.75  15.02  \n",
       "377     18.4  396.24   9.97  \n",
       "378     17.8  388.74  10.45  \n",
       "379     21.0  232.60  27.71  \n",
       "380     20.2  366.15   9.53  \n",
       "381     15.2  390.49   2.87  \n",
       "382     21.0  376.88  14.81  \n",
       "383     20.9  393.49  13.00  \n",
       "384     21.0  386.75  14.67  \n",
       "385     17.0  396.90   4.56  \n",
       "386     19.2  390.91   5.52  \n",
       "387     16.0  392.85   7.39  \n",
       "388     14.7  330.04  11.32  \n",
       "389     20.2  391.43  14.65  \n",
       "390     20.2  334.40  14.13  \n",
       "391     18.6  391.34  13.65  \n",
       "392     20.2  240.52  23.79  \n",
       "393     18.6  396.90  23.09  \n",
       "394     20.9  394.76   9.42  \n",
       "395     20.2  392.92  10.42  \n",
       "396     15.1  392.90   3.95  \n",
       "397     20.2  396.90  14.70  \n",
       "398     17.9  396.90  30.81  \n",
       "399     20.2  394.43  17.11  \n",
       "400     20.2   22.01  17.15  \n",
       "401     17.4  395.24  21.46  \n",
       "402     16.6  390.96   5.33  \n",
       "403     20.2  319.98  15.70  \n",
       "\n",
       "[404 rows x 13 columns]>"
      ]
     },
     "execution_count": 6,
     "metadata": {},
     "output_type": "execute_result"
    }
   ],
   "source": [
    "import pandas as pd\n",
    "\n",
    "column_names = ['CRIM', 'ZN', 'INDUS', 'CHAS', 'NOX', 'RM', 'AGE', 'DIS', 'RAD', 'TAX', 'PTRATIO', 'B', 'LSTAT']\n",
    "\n",
    "df = pd.DataFrame(train_data, columns=column_names)\n",
    "df.head"
   ]
  },
  {
   "cell_type": "code",
   "execution_count": 7,
   "metadata": {},
   "outputs": [
    {
     "name": "stdout",
     "output_type": "stream",
     "text": [
      "[32.  27.5 32.  23.1 50.  20.6 22.6 36.2 21.8 19.5]\n"
     ]
    }
   ],
   "source": [
    "print(train_labels[0:10])"
   ]
  },
  {
   "cell_type": "code",
   "execution_count": 8,
   "metadata": {},
   "outputs": [
    {
     "name": "stdout",
     "output_type": "stream",
     "text": [
      "[-0.39725269  1.41205707 -1.12664623 -0.25683275 -1.027385    0.72635358\n",
      " -1.00016413  0.02383449 -0.51114231 -0.04753316 -1.49067405  0.41584124\n",
      " -0.83648691]\n"
     ]
    }
   ],
   "source": [
    "# Test data is *not* used when calculating mean and stdev for normalization\n",
    "\n",
    "mean = train_data.mean(axis=0)\n",
    "stdev = train_data.std(axis=0)\n",
    "train_data = (train_data - mean) / stdev\n",
    "test_data = (test_data - mean) / stdev\n",
    "\n",
    "print(train_data[0])"
   ]
  },
  {
   "cell_type": "code",
   "execution_count": 9,
   "metadata": {},
   "outputs": [
    {
     "name": "stdout",
     "output_type": "stream",
     "text": [
      "_________________________________________________________________\n",
      "Layer (type)                 Output Shape              Param #   \n",
      "=================================================================\n",
      "dense (Dense)                (None, 64)                896       \n",
      "_________________________________________________________________\n",
      "dense_1 (Dense)              (None, 64)                4160      \n",
      "_________________________________________________________________\n",
      "dense_2 (Dense)              (None, 1)                 65        \n",
      "=================================================================\n",
      "Total params: 5,121\n",
      "Trainable params: 5,121\n",
      "Non-trainable params: 0\n",
      "_________________________________________________________________\n"
     ]
    }
   ],
   "source": [
    "def build_model():\n",
    "    model = keras.Sequential([\n",
    "        keras.layers.Dense(64, activation=tf.nn.relu,\n",
    "                          input_shape=(train_data.shape[1],)),\n",
    "        keras.layers.Dense(64, activation=tf.nn.relu),\n",
    "        keras.layers.Dense(1)\n",
    "    ])\n",
    "    \n",
    "    optimizer = tf.train.RMSPropOptimizer(0.001)\n",
    "    \n",
    "    model.compile(loss='mse',\n",
    "                 optimizer=optimizer,\n",
    "                 metrics=['mae'])\n",
    "    \n",
    "    return model\n",
    "\n",
    "model = build_model()\n",
    "model.summary()"
   ]
  },
  {
   "cell_type": "code",
   "execution_count": 10,
   "metadata": {},
   "outputs": [
    {
     "name": "stdout",
     "output_type": "stream",
     "text": [
      "\n",
      "....................................................................................................\n",
      "....................................................................................................\n",
      "....................................................................................................\n",
      "....................................................................................................\n",
      "...................................................................................................."
     ]
    }
   ],
   "source": [
    "class PrintDot(keras.callbacks.Callback):\n",
    "    def on_epoch_end(self, epoch, logs):\n",
    "        if epoch % 100 == 0: print('')\n",
    "        print('.', end='')\n",
    "        \n",
    "EPOCHS = 500\n",
    "\n",
    "history = model.fit(train_data, train_labels, epochs = EPOCHS,\n",
    "                   validation_split=0.2, verbose=0,\n",
    "                   callbacks=[PrintDot()])"
   ]
  },
  {
   "cell_type": "code",
   "execution_count": 11,
   "metadata": {},
   "outputs": [
    {
     "data": {
      "image/png": "[encoded data removed]",
      "text/plain": [
       "<Figure size 432x288 with 1 Axes>"
      ]
     },
     "metadata": {},
     "output_type": "display_data"
    }
   ],
   "source": [
    "import matplotlib.pyplot as plt\n",
    "\n",
    "def plot_history(history):\n",
    "    plt.figure()\n",
    "    plt.xlabel('Epoch')\n",
    "    plt.ylabel('Mean Abs Error [$1000]')\n",
    "    plt.plot(history.epoch, np.array(history.history['mean_absolute_error']),\n",
    "            label='Train Loss')\n",
    "    plt.plot(history.epoch, np.array(history.history['val_mean_absolute_error']),\n",
    "            label='Val loss')\n",
    "    plt.legend()\n",
    "    plt.ylim([0, 5])\n",
    "    \n",
    "plot_history(history)"
   ]
  },
  {
   "cell_type": "code",
   "execution_count": 12,
   "metadata": {},
   "outputs": [
    {
     "name": "stdout",
     "output_type": "stream",
     "text": [
      "Testing set MAE: $2404.83\n"
     ]
    }
   ],
   "source": [
    "[loss, mae] = model.evaluate(test_data, test_labels, verbose=0)\n",
    "print('Testing set MAE: ${:7.2f}'.format(mae * 1000))"
   ]
  },
  {
   "cell_type": "code",
   "execution_count": 13,
   "metadata": {},
   "outputs": [
    {
     "data": {
      "image/png": "[encoded data removed]",
      "text/plain": [
       "<Figure size 432x288 with 1 Axes>"
      ]
     },
     "metadata": {},
     "output_type": "display_data"
    }
   ],
   "source": [
    "test_predictions = model.predict(test_data).flatten()\n",
    "\n",
    "plt.scatter(test_labels, test_predictions)\n",
    "plt.xlabel('True Values [$1000]')\n",
    "plt.ylabel('Predictions [$1000]')\n",
    "plt.axis('equal')\n",
    "plt.xlim(plt.xlim())\n",
    "plt.ylim(plt.ylim())\n",
    "_ = plt.plot([-100, 100], [-100,100])"
   ]
  },
  {
   "cell_type": "code",
   "execution_count": 14,
   "metadata": {},
   "outputs": [
    {
     "data": {
      "image/png": "[encoded data removed]",
      "text/plain": [
       "<Figure size 432x288 with 1 Axes>"
      ]
     },
     "metadata": {},
     "output_type": "display_data"
    }
   ],
   "source": [
    "error = test_predictions - test_labels\n",
    "plt.hist(error, bins=50)\n",
    "plt.xlabel(\"Prediction Error [$1000]\")\n",
    "_ = plt.ylabel(\"Count\")"
   ]
  },
  {
   "cell_type": "code",
   "execution_count": null,
   "metadata": {},
   "outputs": [],
   "source": []
  }
 ],
 "metadata": {
  "kernelspec": {
   "display_name": "Python 3",
   "language": "python",
   "name": "python3"
  },
  "language_info": {
   "codemirror_mode": {
    "name": "ipython",
    "version": 3
   },
   "file_extension": ".py",
   "mimetype": "text/x-python",
   "name": "python",
   "nbconvert_exporter": "python",
   "pygments_lexer": "ipython3",
   "version": "3.6.6"
  }
 },
 "nbformat": 4,
 "nbformat_minor": 2
}
